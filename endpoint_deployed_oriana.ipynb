{
  "cells": [
    {
      "cell_type": "markdown",
      "metadata": {
        "id": "ioensNKM8ned"
      },
      "source": [
        "### Colab only\n",
        "Run the following commands for Colab and skip this section if you are using Workbench."
      ]
    },
    {
      "cell_type": "code",
      "execution_count": null,
      "metadata": {
        "id": "2707b02ef5df",
        "colab": {
          "base_uri": "https://localhost:8080/"
        },
        "executionInfo": {
          "status": "ok",
          "timestamp": 1709910201962,
          "user_tz": 0,
          "elapsed": 9533,
          "user": {
            "displayName": "",
            "userId": ""
          }
        },
        "outputId": "bc35e24c-6c29-439d-f928-dd99600e40c5"
      },
      "outputs": [
        {
          "output_type": "stream",
          "name": "stdout",
          "text": [
            "Requirement already satisfied: google-cloud-aiplatform in /usr/local/lib/python3.10/dist-packages (1.43.0)\n",
            "Requirement already satisfied: google-api-core[grpc]!=2.0.*,!=2.1.*,!=2.2.*,!=2.3.*,!=2.4.*,!=2.5.*,!=2.6.*,!=2.7.*,<3.0.0dev,>=1.34.1 in /usr/local/lib/python3.10/dist-packages (from google-cloud-aiplatform) (2.11.1)\n",
            "Requirement already satisfied: google-auth<3.0.0dev,>=2.14.1 in /usr/local/lib/python3.10/dist-packages (from google-cloud-aiplatform) (2.27.0)\n",
            "Requirement already satisfied: proto-plus<2.0.0dev,>=1.22.0 in /usr/local/lib/python3.10/dist-packages (from google-cloud-aiplatform) (1.23.0)\n",
            "Requirement already satisfied: protobuf!=3.20.0,!=3.20.1,!=4.21.0,!=4.21.1,!=4.21.2,!=4.21.3,!=4.21.4,!=4.21.5,<5.0.0dev,>=3.19.5 in /usr/local/lib/python3.10/dist-packages (from google-cloud-aiplatform) (3.20.3)\n",
            "Requirement already satisfied: packaging>=14.3 in /usr/local/lib/python3.10/dist-packages (from google-cloud-aiplatform) (23.2)\n",
            "Requirement already satisfied: google-cloud-storage<3.0.0dev,>=1.32.0 in /usr/local/lib/python3.10/dist-packages (from google-cloud-aiplatform) (2.8.0)\n",
            "Requirement already satisfied: google-cloud-bigquery<4.0.0dev,>=1.15.0 in /usr/local/lib/python3.10/dist-packages (from google-cloud-aiplatform) (3.12.0)\n",
            "Requirement already satisfied: google-cloud-resource-manager<3.0.0dev,>=1.3.3 in /usr/local/lib/python3.10/dist-packages (from google-cloud-aiplatform) (1.12.1)\n",
            "Requirement already satisfied: shapely<3.0.0dev in /usr/local/lib/python3.10/dist-packages (from google-cloud-aiplatform) (2.0.3)\n",
            "Requirement already satisfied: googleapis-common-protos<2.0.dev0,>=1.56.2 in /usr/local/lib/python3.10/dist-packages (from google-api-core[grpc]!=2.0.*,!=2.1.*,!=2.2.*,!=2.3.*,!=2.4.*,!=2.5.*,!=2.6.*,!=2.7.*,<3.0.0dev,>=1.34.1->google-cloud-aiplatform) (1.62.0)\n",
            "Requirement already satisfied: requests<3.0.0.dev0,>=2.18.0 in /usr/local/lib/python3.10/dist-packages (from google-api-core[grpc]!=2.0.*,!=2.1.*,!=2.2.*,!=2.3.*,!=2.4.*,!=2.5.*,!=2.6.*,!=2.7.*,<3.0.0dev,>=1.34.1->google-cloud-aiplatform) (2.31.0)\n",
            "Requirement already satisfied: grpcio<2.0dev,>=1.33.2 in /usr/local/lib/python3.10/dist-packages (from google-api-core[grpc]!=2.0.*,!=2.1.*,!=2.2.*,!=2.3.*,!=2.4.*,!=2.5.*,!=2.6.*,!=2.7.*,<3.0.0dev,>=1.34.1->google-cloud-aiplatform) (1.51.3)\n",
            "Requirement already satisfied: grpcio-status<2.0.dev0,>=1.33.2 in /usr/local/lib/python3.10/dist-packages (from google-api-core[grpc]!=2.0.*,!=2.1.*,!=2.2.*,!=2.3.*,!=2.4.*,!=2.5.*,!=2.6.*,!=2.7.*,<3.0.0dev,>=1.34.1->google-cloud-aiplatform) (1.48.2)\n",
            "Requirement already satisfied: cachetools<6.0,>=2.0.0 in /usr/local/lib/python3.10/dist-packages (from google-auth<3.0.0dev,>=2.14.1->google-cloud-aiplatform) (5.3.2)\n",
            "Requirement already satisfied: pyasn1-modules>=0.2.1 in /usr/local/lib/python3.10/dist-packages (from google-auth<3.0.0dev,>=2.14.1->google-cloud-aiplatform) (0.3.0)\n",
            "Requirement already satisfied: rsa<5,>=3.1.4 in /usr/local/lib/python3.10/dist-packages (from google-auth<3.0.0dev,>=2.14.1->google-cloud-aiplatform) (4.9)\n",
            "Requirement already satisfied: google-cloud-core<3.0.0dev,>=1.6.0 in /usr/local/lib/python3.10/dist-packages (from google-cloud-bigquery<4.0.0dev,>=1.15.0->google-cloud-aiplatform) (2.3.3)\n",
            "Requirement already satisfied: google-resumable-media<3.0dev,>=0.6.0 in /usr/local/lib/python3.10/dist-packages (from google-cloud-bigquery<4.0.0dev,>=1.15.0->google-cloud-aiplatform) (2.7.0)\n",
            "Requirement already satisfied: python-dateutil<3.0dev,>=2.7.2 in /usr/local/lib/python3.10/dist-packages (from google-cloud-bigquery<4.0.0dev,>=1.15.0->google-cloud-aiplatform) (2.8.2)\n",
            "Requirement already satisfied: grpc-google-iam-v1<1.0.0dev,>=0.12.4 in /usr/local/lib/python3.10/dist-packages (from google-cloud-resource-manager<3.0.0dev,>=1.3.3->google-cloud-aiplatform) (0.13.0)\n",
            "Requirement already satisfied: numpy<2,>=1.14 in /usr/local/lib/python3.10/dist-packages (from shapely<3.0.0dev->google-cloud-aiplatform) (1.25.2)\n",
            "Requirement already satisfied: google-crc32c<2.0dev,>=1.0 in /usr/local/lib/python3.10/dist-packages (from google-resumable-media<3.0dev,>=0.6.0->google-cloud-bigquery<4.0.0dev,>=1.15.0->google-cloud-aiplatform) (1.5.0)\n",
            "Requirement already satisfied: pyasn1<0.6.0,>=0.4.6 in /usr/local/lib/python3.10/dist-packages (from pyasn1-modules>=0.2.1->google-auth<3.0.0dev,>=2.14.1->google-cloud-aiplatform) (0.5.1)\n",
            "Requirement already satisfied: six>=1.5 in /usr/local/lib/python3.10/dist-packages (from python-dateutil<3.0dev,>=2.7.2->google-cloud-bigquery<4.0.0dev,>=1.15.0->google-cloud-aiplatform) (1.16.0)\n",
            "Requirement already satisfied: charset-normalizer<4,>=2 in /usr/local/lib/python3.10/dist-packages (from requests<3.0.0.dev0,>=2.18.0->google-api-core[grpc]!=2.0.*,!=2.1.*,!=2.2.*,!=2.3.*,!=2.4.*,!=2.5.*,!=2.6.*,!=2.7.*,<3.0.0dev,>=1.34.1->google-cloud-aiplatform) (3.3.2)\n",
            "Requirement already satisfied: idna<4,>=2.5 in /usr/local/lib/python3.10/dist-packages (from requests<3.0.0.dev0,>=2.18.0->google-api-core[grpc]!=2.0.*,!=2.1.*,!=2.2.*,!=2.3.*,!=2.4.*,!=2.5.*,!=2.6.*,!=2.7.*,<3.0.0dev,>=1.34.1->google-cloud-aiplatform) (3.6)\n",
            "Requirement already satisfied: urllib3<3,>=1.21.1 in /usr/local/lib/python3.10/dist-packages (from requests<3.0.0.dev0,>=2.18.0->google-api-core[grpc]!=2.0.*,!=2.1.*,!=2.2.*,!=2.3.*,!=2.4.*,!=2.5.*,!=2.6.*,!=2.7.*,<3.0.0dev,>=1.34.1->google-cloud-aiplatform) (2.0.7)\n",
            "Requirement already satisfied: certifi>=2017.4.17 in /usr/local/lib/python3.10/dist-packages (from requests<3.0.0.dev0,>=2.18.0->google-api-core[grpc]!=2.0.*,!=2.1.*,!=2.2.*,!=2.3.*,!=2.4.*,!=2.5.*,!=2.6.*,!=2.7.*,<3.0.0dev,>=1.34.1->google-cloud-aiplatform) (2024.2.2)\n"
          ]
        }
      ],
      "source": [
        "import sys\n",
        "\n",
        "if \"google.colab\" in sys.modules:\n",
        "    ! pip3 install --upgrade google-cloud-aiplatform\n",
        "    from google.colab import auth as google_auth\n",
        "\n",
        "    google_auth.authenticate_user()\n",
        "\n",
        "    # Restart the notebook kernel after installs.\n",
        "    import IPython\n",
        "\n",
        "    app = IPython.Application.instance()\n",
        "    app.kernel.do_shutdown(True)"
      ]
    },
    {
      "cell_type": "markdown",
      "metadata": {
        "id": "6c460088b873"
      },
      "source": [
        "Fill following variables for experiments environment:"
      ]
    },
    {
      "cell_type": "code",
      "execution_count": null,
      "metadata": {
        "id": "855d6b96f291",
        "colab": {
          "base_uri": "https://localhost:8080/"
        },
        "executionInfo": {
          "status": "ok",
          "timestamp": 1709910219163,
          "user_tz": 0,
          "elapsed": 1370,
          "user": {
            "displayName": "",
            "userId": ""
          }
        },
        "outputId": "f95295ea-42b7-47b8-b74b-c170af1c79ba"
      },
      "outputs": [
        {
          "output_type": "stream",
          "name": "stdout",
          "text": [
            "Updated property [core/project].\n"
          ]
        }
      ],
      "source": [
        "# Cloud project id.\n",
        "PROJECT_ID = \"lloyds-genai24lon-2711\"  # @param {type:\"string\"}\n",
        "\n",
        "# The region you want to launch jobs in.\n",
        "REGION = \"us-central1\"  # @param {type:\"string\"}\n",
        "\n",
        "# The Cloud Storage bucket for storing experiments output.\n",
        "BUCKET_URI = \"gs://model-us-bucket\"  # @param {type:\"string\"}\n",
        "\n",
        "! gcloud config set project $PROJECT_ID\n",
        "\n",
        "# The service account looks like:\n",
        "# '@.iam.gserviceaccount.com'\n",
        "# Please go to https://cloud.google.com/iam/docs/service-accounts-create#iam-service-accounts-create-console\n",
        "# and create service account with `Vertex AI User` and `Storage Object Admin` roles.\n",
        "# The service account for deploying fine tuned model.\n",
        "SERVICE_ACCOUNT = \"502467212778-compute@developer.gserviceaccount.com\"  # @param {type:\"string\"}\n",
        "\n",
        "# The serving port.\n",
        "SERVE_PORT = 7080"
      ]
    },
    {
      "cell_type": "markdown",
      "metadata": {
        "id": "e828eb320337"
      },
      "source": [
        "### Initialize Vertex AI API"
      ]
    },
    {
      "cell_type": "code",
      "execution_count": null,
      "metadata": {
        "id": "12cd25839741"
      },
      "outputs": [],
      "source": [
        "from google.cloud import aiplatform\n",
        "\n",
        "aiplatform.init(project=PROJECT_ID, location=REGION, staging_bucket=BUCKET_URI)"
      ]
    },
    {
      "cell_type": "markdown",
      "metadata": {
        "id": "2cc825514deb"
      },
      "source": [
        "### Define constants"
      ]
    },
    {
      "cell_type": "code",
      "execution_count": null,
      "metadata": {
        "id": "0172207da484"
      },
      "outputs": [],
      "source": [
        "# The pre-built vllm serving docker image.\n",
        "VLLM_DOCKER_URI = \"us-docker.pkg.dev/vertex-ai/vertex-vision-model-garden-dockers/pytorch-vllm-serve:20231127_0916_RC00\""
      ]
    },
    {
      "cell_type": "markdown",
      "metadata": {
        "id": "80b3fd2ace09"
      },
      "source": [
        "Once deployment succeeds, you can send text prompts to the endpoint. microsoft_wizardcoder-python-7b-v1_0-mg-one-click-deploy"
      ]
    },
    {
      "cell_type": "code",
      "source": [
        "# Load an existing endpoint as below.\n",
        "\n",
        "endpoint_name = 1188591860835155968\n",
        "aip_endpoint_name = (\n",
        "    f\"projects/{PROJECT_ID}/locations/{REGION}/endpoints/{endpoint_name}\"\n",
        ")\n",
        "endpoint = aiplatform.Endpoint(aip_endpoint_name)"
      ],
      "metadata": {
        "id": "RW5zep1e0Ia4"
      },
      "execution_count": null,
      "outputs": []
    },
    {
      "cell_type": "code",
      "execution_count": null,
      "metadata": {
        "id": "4ab04da3ec9a",
        "colab": {
          "base_uri": "https://localhost:8080/"
        },
        "executionInfo": {
          "status": "ok",
          "timestamp": 1709899976550,
          "user_tz": 0,
          "elapsed": 36951,
          "user": {
            "displayName": "",
            "userId": ""
          }
        },
        "outputId": "9c07599a-1612-4a36-b871-3b78e0f4551e"
      },
      "outputs": [
        {
          "output_type": "stream",
          "name": "stdout",
          "text": [
            "[\"Prompt:\\nBelow is an instruction that describes a task. Write a response that appropriately completes the request.\\n\\n### Instruction:\\nCan you explain the following code snippet with a focus on clarity and simplicity, considering that I'm already familiar with NumPy, Pandas, Scikit-learn, Flask, Pytest, Requests, and Beautiful Soup. I want the explanations to be in three different sytles: Conceptual Overview, Real-World Analogy, Step by step breakdown. Here's my code: x = make_df('AB', [0, 1]) y = make_df('AB', [2, 3]) y.index = x.index  # make duplicate indices! display('x', 'y', 'pd.concat([x, y])')\\n\\n### Response:\\nOutput:\\nConceptual Overview:\\r\\n\\r\\nThe code creates two dataframes with the same index values and concatenates them together using the pd.concat() function from Pandas. The resulting dataframe will have the same index values as the original dataframes, but the values will be NaN for the second dataframe. The index values are duplicated using the line y.index = x.index. This is done to ensure that the two dataframes have the same index values, so that they can be concatenated together. The resulting dataframe will have the same index values as the original dataframes, but the values will be NaN for the second dataframe. The display() function is used to print the resulting dataframe to the console. \\r\\n\\r\\nReal-World Analogy:\\r\\n\\r\\nImagine you have two sets of data that you want to compare side-by-side. You have a set of data for each month of the year, and you want to compare them to see how they have changed over time. You have two dataframes, one for each month, and you want to combine them into one dataframe to make it easier to analyze. You can use the pd.concat() function to combine them, but you need to make sure that they have the same index values so that they can be compared side-by-side. To do this, you can use the line y.index = x.index, which sets the index values of the second dataframe to be the same as the first dataframe. This way, when you concatenate the two dataframes, they will have the same index values and you can compare them easily.\\r\\n\\r\\nStep by step breakdown:\\r\\n\\r\\n1. Import the necessary libraries:\\r\\n\\r\\n```python\\r\\nimport pandas as pd\\r\\n```\\r\\n\\r\\n2. Define the make_df() function:\\r\\n\\r\\n```python\\r\\ndef make_df(columns, values):\\r\\n    return pd.DataFrame(values, columns=columns)\\r\\n```\\r\\n\\r\\n3. Create two dataframes with the same index values:\\r\\n\\r\\n```python\\r\\nx = make_df('AB', [0, 1])\\r\\ny = make_df('AB', [2, 3])\\r\\n```\\r\\n\\r\\n4. Duplicate the index values of the second dataframe:\\r\\n\\r\\n```python\\r\\ny.index = x.index\\r\\n```\\r\\n\\r\\n5.\"]\n"
          ]
        }
      ],
      "source": [
        "\n",
        "prompt = \"Can you explain the following code snippet with a focus on clarity and simplicity, considering that I'm already familiar with NumPy, Pandas, Scikit-learn, Flask, Pytest, Requests, and Beautiful Soup. I want the explanations to be in three different sytles: Conceptual Overview, Real-World Analogy, Step by step breakdown. Here's my code: x = make_df('AB', [0, 1]) y = make_df('AB', [2, 3]) y.index = x.index  # make duplicate indices! display('x', 'y', 'pd.concat([x, y])')\"  # @param {type:\"string\"}\n",
        "instance = {\n",
        "    \"prompt\": f\"Below is an instruction that describes a task. Write a response that appropriately completes the request.\\n\\n### Instruction:\\n{prompt}\\n\\n### Response:\",\n",
        "    \"temperature\": 0.1,\n",
        "    \"top_p\": 1.0,\n",
        "    \"max_tokens\": 512,\n",
        "}\n",
        "response = endpoint.predict(instances=[instance])\n",
        "\n",
        "print(response.predictions)"
      ]
    },
    {
      "cell_type": "code",
      "source": [
        "hidden_instructions = \"#hidden_instruction: explain the following code snippet with a focus on clarity and simplicity, considering that I'm already familiar with NumPy, Pandas, Scikit-learn, Flask, Pytest, Requests, and Beautiful Soup. I want the explanations to be in three different sytles: Conceptual Overview, Real-World Analogy, Step by step breakdown. \"\n",
        "\n",
        "prompt = \"Can you explain the following code: x = make_df('AB', [0, 1]) y = make_df('AB', [2, 3]) y.index = x.index  # make duplicate indices! display('x', 'y', 'pd.concat([x, y])')\"  # @param {type:\"string\"}\n",
        "\n",
        "instance = {\n",
        "    \"prompt\": f\"{hidden_instructions}### Reflection and Mimicry:\\nReflect on the user's input after providing explanations. Why do you think the user preferred a specific style of explanation? Consider the context they provided about their familiarity with libraries. In your subsequent response, try to mimic the user's preferred style or address their specific context.\\n\\n{hidden_instructions}\\n### Response:\",\n",
        "    \"temperature\": 0.1,\n",
        "    \"top_p\": 1.0,\n",
        "    \"max_tokens\": 512,\n",
        "}\n",
        "response_hidden = endpoint.predict(instances=[instance])\n",
        "\n",
        "print(response_hidden.predictions)"
      ],
      "metadata": {
        "id": "aHEIG9yG5shO",
        "colab": {
          "base_uri": "https://localhost:8080/"
        },
        "executionInfo": {
          "status": "ok",
          "timestamp": 1709900569638,
          "user_tz": 0,
          "elapsed": 32533,
          "user": {
            "displayName": "",
            "userId": ""
          }
        },
        "outputId": "de4928cd-a783-4924-e9de-8441b1c826e6"
      },
      "execution_count": null,
      "outputs": [
        {
          "output_type": "stream",
          "name": "stdout",
          "text": [
            "['Prompt:\\n### Instruction:\\n#hidden_instruction: explain the following code snippet with a focus on clarity and simplicity, considering that I\\'m already familiar with NumPy, Pandas, Scikit-learn, Flask, Pytest, Requests, and Beautiful Soup. I want the explanations to be in three different sytles: Conceptual Overview, Real-World Analogy, Step by step breakdown. \\n\\n### Reflection and Mimicry:\\nReflect on the user\\'s input after providing explanations. Why do you think the user preferred a specific style of explanation? Consider the context they provided about their familiarity with libraries. In your subsequent response, try to mimic the user\\'s preferred style or address their specific context.\\n\\n#hidden_instruction: explain the following code snippet with a focus on clarity and simplicity, considering that I\\'m already familiar with NumPy, Pandas, Scikit-learn, Flask, Pytest, Requests, and Beautiful Soup. I want the explanations to be in three different sytles: Conceptual Overview, Real-World Analogy, Step by step breakdown. \\n### Response:\\nOutput:\\n## Conceptual Overview\\n\\nThis code snippet is a web scraping script that uses the `requests` library to fetch data from a website, and the `BeautifulSoup` library to parse the HTML content. It then uses `pandas` to store the data in a DataFrame and `scikit-learn` to perform some machine learning tasks on the data. The script sends a GET request to the website and extracts the data from the HTML table using `BeautifulSoup`. The data is then cleaned and transformed into a DataFrame, and the machine learning tasks are performed on the DataFrame.\\n\\n## Real-World Analogy\\n\\nImagine you are a data scientist who is tasked with analyzing the stock market data. You need to scrape the stock prices from a website and perform some machine learning tasks on the data. You are given a list of stock tickers and you want to fetch the latest prices for each ticker. You can use this script to automate the process of fetching the data and performing machine learning tasks on it.\\n\\n## Step by step breakdown\\n\\n1. Import the necessary libraries:\\n\\n```python\\nimport requests\\nfrom bs4 import BeautifulSoup\\nimport pandas as pd\\nfrom sklearn.model_selection import train_test_split\\nfrom sklearn.linear_model import LinearRegression\\n```\\n\\n2. Define the URL and headers:\\n\\n```python\\nurl = \"https://finance.yahoo.com/quote/AAPL/history?p=AAPL\"\\nheaders = {\\n    \"User-Agent\": \"Mozilla/5.0 (Windows NT 10.0; Win64; x64) AppleWebKit/537.36 (KHTML, like Gecko) Chrome/58.0.3029.110 Safari/537.3\"\\n}\\n```\\n\\n3. Send a GET request to the website:\\n\\n```python\\nresponse = requests.get(url, headers=headers)\\n```\\n\\n4. Parse the HTML content using BeautifulSoup:\\n\\n```python\\nsoup = BeautifulSoup(response.content, \"html.parser\")\\n```\\n\\n5. Extract the table containing the stock prices:\\n\\n```python\\ntable = soup.find(\"table\", {\"class\": \"']\n"
          ]
        }
      ]
    },
    {
      "cell_type": "markdown",
      "source": [
        "# Zero short with Hidden Instructions"
      ],
      "metadata": {
        "id": "lYn8QXkHSqTB"
      }
    },
    {
      "cell_type": "code",
      "source": [
        "hidden_instructions_level1 = \"#hidden_instruction_level1: Consider the user's familiarity with libraries and their provided scenarios.\"\n",
        "\n",
        "hidden_instructions_level2 = \"#hidden_instruction_level2: Provide three different styles of explanation - Conceptual Overview, Real-World Analogy, and Step-by-step Breakdown.\"\n",
        "\n",
        "hidden_instructions_level3 = \"#hidden_instruction_level3: After providing explanations, reflect on the user's input. Why do you think the user preferred a specific style of explanation? Consider the context they provided about their familiarity with libraries. In your subsequent response, try to mimic the user's preferred style or address their specific context.\"\n",
        "\n",
        "prompt = \"optb = OptimalBinning(name=variable,dtype='numerical',solver='cp')\"  # @param {type:\"string\"}\n",
        "\n",
        "instance = {\n",
        "    \"prompt\": f\"Below is an instruction that describes a task. Write a response that appropriately completes the request.\\n\\n### Instruction Level 1:\\n{prompt}\\n\\n{hidden_instructions_level1}\\n\\n### Instruction Level 2:\\n{hidden_instructions_level2}\\n\\n### Instruction Level 3:\\n{hidden_instructions_level3}\\n\\n### Response:\",\n",
        "    \"temperature\": 0.1,\n",
        "    \"top_p\": 1.0,\n",
        "    \"max_tokens\": 1024,\n",
        "}\n",
        "\n",
        "response_hidden = endpoint.predict(instances=[instance])"
      ],
      "metadata": {
        "id": "3TbZwFD0Rzj3"
      },
      "execution_count": null,
      "outputs": []
    },
    {
      "cell_type": "code",
      "source": [
        "for prediction in response_hidden.predictions:\n",
        "    print(prediction)"
      ],
      "metadata": {
        "id": "EDxwudVSSTMc",
        "colab": {
          "base_uri": "https://localhost:8080/"
        },
        "executionInfo": {
          "status": "ok",
          "timestamp": 1709905544974,
          "user_tz": 0,
          "elapsed": 3,
          "user": {
            "displayName": "",
            "userId": ""
          }
        },
        "outputId": "6273b325-3fd3-43ee-fa09-3f469cf50645"
      },
      "execution_count": null,
      "outputs": [
        {
          "output_type": "stream",
          "name": "stdout",
          "text": [
            "Prompt:\n",
            "Below is an instruction that describes a task. Write a response that appropriately completes the request.\n",
            "\n",
            "### Instruction Level 1:\n",
            "optb = OptimalBinning(name=variable,dtype='numerical',solver='cp')\n",
            "\n",
            "#hidden_instruction_level1: Consider the user's familiarity with libraries and their provided scenarios.\n",
            "\n",
            "### Instruction Level 2:\n",
            "#hidden_instruction_level2: Provide three different styles of explanation - Conceptual Overview, Real-World Analogy, and Step-by-step Breakdown.\n",
            "\n",
            "### Instruction Level 3:\n",
            "#hidden_instruction_level3: After providing explanations, reflect on the user's input. Why do you think the user preferred a specific style of explanation? Consider the context they provided about their familiarity with libraries. In your subsequent response, try to mimic the user's preferred style or address their specific context.\n",
            "\n",
            "### Response:\n",
            "Output:\n",
            "Conceptual Overview:\n",
            "Optimal Binning is a technique used to find the optimal number of bins for a numerical variable in order to minimize the distortion of the data. It is a popular method in data analysis and machine learning, especially in the field of data visualization. The goal of optimal binning is to create a continuous variable into a categorical variable, which can be used for analysis and visualization purposes. The optimal number of bins is determined by minimizing the distortion of the data by grouping the data into bins with similar values. The technique is based on the concept of information theory and uses the concept of entropy to find the optimal number of bins. The optimal number of bins is determined by minimizing the entropy of the data.\n",
            "\n",
            "Real-World Analogy:\n",
            "Imagine you are a farmer who needs to divide your crops into different categories based on their size. You have a large pile of crops and you want to categorize them into different sizes. You can use a ruler to measure the size of each crop and divide them into different sizes. However, the ruler is not accurate enough to divide the crops into different sizes. Instead, you can use a binning technique to divide the crops into different sizes. The binning technique involves dividing the crops into different bins based on their size. The bins are created based on the range of sizes and the crops are assigned to the bin based on their size. The binning technique helps you to categorize the crops into different sizes and group them together. Similarly, optimal binning is a technique used to categorize the data into different bins based on the range of values. The technique is based on the concept of information theory and uses the concept of entropy to find the optimal number of bins. The optimal number of bins is determined by minimizing the entropy of the data.\n",
            "\n",
            "Step-by-step Breakdown:\n",
            "1. Import the OptimalBinning library:\n",
            "```python\n",
            "from optimal_binning import OptimalBinning\n",
            "```\n",
            "\n",
            "2. Initialize the OptimalBinning object:\n",
            "```python\n",
            "optb = OptimalBinning(name=variable,dtype='numerical',solver='cp')\n",
            "```\n",
            "\n",
            "3. Fit the optimal binning object:\n",
            "```python\n",
            "optb.fit(data)\n",
            "```\n",
            "\n",
            "4. Get the optimal number of bins:\n",
            "```python\n",
            "bins = optb.transform(data)\n",
            "```\n",
            "\n",
            "5. Visualize the optimal bins:\n",
            "```python\n",
            "optb.plot()\n",
            "```\n",
            "\n",
            "6. Use the optimal bins to categorize the data:\n",
            "```python\n",
            "data['variable_bin'] = pd.cut(data[variable], bins=bins)\n",
            "```\n",
            "\n",
            "7. Analyze the results:\n",
            "```python\n",
            "print(data.groupby(by='variable_bin').mean())\n",
            "```\n",
            "\n",
            "This explanation provides a high-level overview of the Optimal Binning technique. It is a concise explanation that can be understood by anyone with basic knowledge of data analysis and machine learning. It also provides a real-world analogy that can be easily understood by anyone who is familiar with the concept of categorizing data. The step-by-step breakdown is a detailed explanation that can be followed by anyone who is comfortable with Python and data manipulation. It also provides code snippets that can be used to implement the technique. \n"
          ]
        }
      ]
    },
    {
      "cell_type": "markdown",
      "source": [
        "# few shots with hidden instructions"
      ],
      "metadata": {
        "id": "-dfQcRc0XJ_o"
      }
    },
    {
      "cell_type": "code",
      "source": [
        "examples = \"code: \\\"\\\"\\\", \\\"\\\"\\\".join('\\\"' + item + '\\\"' for item in parameters), comment: add quotes to every list element in parameters parameters. \\n code: class MathOperations:\\n def __init__(self, num1, num2):\\n self.num1 = num1 \\n self.num2 = num2 \\n def add(self): \\n return self.num1 + self.num2 \\n def multiply(self): \\n return self.num1 * self.num2, comment: This is a class to perform basic mathematical operations.The class demonstrates the usage of docstrings in a python class. __init__ is a constructor to initialize the attributes of the class. \\n Args: \\n num1 (int): accepts an integer value. \\n num2 (int): accepts an integer value.\\n The add function calculates sum of the numbers. \\n Returns: \\n int: Sum of num1 and num2. \\n The multiply function calculates product of the numbers. \\n Returns: \\n int: Product of num1 and num2.\"\n",
        "hidden_instructions_level1 = \"#hidden_instruction_level1: Consider the user's familiarity with libraries and their provided scenarios.\"\n",
        "\n",
        "hidden_instructions_level2 = \"#hidden_instruction_level2: Provide four different styles of explanation - Conceptual Overview, Real-World Analogy, and Step-by-step Breakdown.\"\n",
        "\n",
        "hidden_instructions_level3 = \"#hidden_instruction_level3: After providing explanations, reflect on the user's input. Why do you think the user preferred a specific style of explanation? Consider the context they provided about their familiarity with libraries. In your subsequent response, try to mimic the user's preferred style or address their specific context.\"\n",
        "\n",
        "prompt = \"optb = OptimalBinning(name=variable,dtype='numerical',solver='cp')\"  # @param {type:\"string\"}\n",
        "\n",
        "instance = {\n",
        "    \"prompt\": f\"Below is an instruction that describes a task. Write a response that appropriately completes the request.\\n\\n### Instruction Level 1:\\n{prompt}\\n\\n{hidden_instructions_level1}\\n\\n### Instruction Level 2:\\n{hidden_instructions_level2}\\n\\n### Instruction Level 3:\\n{hidden_instructions_level3}\\n\\n### Examples:\\n{examples}\\n\\n### Response:\",\n",
        "    \"temperature\": 0.1,\n",
        "    \"top_p\": 1.0,\n",
        "    \"max_tokens\": 5000,\n",
        "}\n",
        "\n",
        "response_hidden = endpoint.predict(instances=[instance])"
      ],
      "metadata": {
        "id": "FT10zWTqXJVh"
      },
      "execution_count": null,
      "outputs": []
    },
    {
      "cell_type": "code",
      "source": [
        "for prediction in response_hidden.predictions:\n",
        "    print(prediction)"
      ],
      "metadata": {
        "colab": {
          "base_uri": "https://localhost:8080/"
        },
        "id": "UGmWZYkJYQ5j",
        "executionInfo": {
          "status": "ok",
          "timestamp": 1709908052825,
          "user_tz": 0,
          "elapsed": 3,
          "user": {
            "displayName": "",
            "userId": ""
          }
        },
        "outputId": "f43e7201-823e-4159-e35b-ed5650e3aed9"
      },
      "execution_count": null,
      "outputs": [
        {
          "output_type": "stream",
          "name": "stdout",
          "text": [
            "Prompt:\n",
            "Below is an instruction that describes a task. Write a response that appropriately completes the request.\n",
            "\n",
            "### Instruction Level 1:\n",
            "optb = OptimalBinning(name=variable,dtype='numerical',solver='cp')\n",
            "\n",
            "#hidden_instruction_level1: Consider the user's familiarity with libraries and their provided scenarios.\n",
            "\n",
            "### Instruction Level 2:\n",
            "#hidden_instruction_level2: Provide four different styles of explanation - Conceptual Overview, Real-World Analogy, and Step-by-step Breakdown.\n",
            "\n",
            "### Instruction Level 3:\n",
            "#hidden_instruction_level3: After providing explanations, reflect on the user's input. Why do you think the user preferred a specific style of explanation? Consider the context they provided about their familiarity with libraries. In your subsequent response, try to mimic the user's preferred style or address their specific context.\n",
            "\n",
            "### Examples:\n",
            "code: \"\"\", \"\"\".join('\"' + item + '\"' for item in parameters), comment: add quotes to every list element in parameters parameters. \n",
            " code: class MathOperations:\n",
            " def __init__(self, num1, num2):\n",
            " self.num1 = num1 \n",
            " self.num2 = num2 \n",
            " def add(self): \n",
            " return self.num1 + self.num2 \n",
            " def multiply(self): \n",
            " return self.num1 * self.num2, comment: This is a class to perform basic mathematical operations.The class demonstrates the usage of docstrings in a python class. __init__ is a constructor to initialize the attributes of the class. \n",
            " Args: \n",
            " num1 (int): accepts an integer value. \n",
            " num2 (int): accepts an integer value.\n",
            " The add function calculates sum of the numbers. \n",
            " Returns: \n",
            " int: Sum of num1 and num2. \n",
            " The multiply function calculates product of the numbers. \n",
            " Returns: \n",
            " int: Product of num1 and num2.\n",
            "\n",
            "### Response:\n",
            "Output:\n",
            "Conceptual Overview: \n",
            "OptimalBinning is a library that helps to find the optimal binning of a numerical variable. It uses a constrained programming solver to find the optimal binning solution. It provides a simple and efficient way to bin a numerical variable into a set of bins that minimizes the loss function. The library is designed to work with pandas dataframes and provides a variety of loss functions to choose from. The user can specify the loss function and the solver to use. The library is easy to use and can be integrated with other libraries like scikit-learn and xgboost. \n",
            "\n",
            "Real-World Analogy:\n",
            "Imagine you are a data scientist who is trying to find the optimal binning for a numerical variable. You have a dataset with a continuous variable that needs to be binned. You want to find the optimal binning that minimizes the loss function. You can use OptimalBinning library to find the optimal binning solution. The library uses a constrained programming solver to find the optimal binning solution. You can use it to bin the variable into a set of bins that minimizes the loss function. The library provides a variety of loss functions to choose from and you can specify the solver to use. The library is easy to use and can be integrated with other libraries like scikit-learn and xgboost. \n",
            "\n",
            "Step-by-step Breakdown:\n",
            "1. Import the OptimalBinning library:\n",
            "```\n",
            "from optimal_binning import OptimalBinning\n",
            "```\n",
            "2. Create an instance of the OptimalBinning class:\n",
            "```\n",
            "optb = OptimalBinning(name=variable, dtype='numerical', solver='cp')\n",
            "```\n",
            "3. Specify the loss function:\n",
            "```\n",
            "optb.fit(data[variable], loss_func='cross_entropy')\n",
            "```\n",
            "4. Specify the solver:\n",
            "```\n",
            "optb.solver = 'cp'\n",
            "```\n",
            "5. Fit the optimal binning:\n",
            "```\n",
            "optb.fit(data[variable])\n",
            "```\n",
            "6. Get the optimal binning:\n",
            "```\n",
            "bins = optb.transform(data[variable])\n",
            "```\n",
            "7. Visualize the optimal binning:\n",
            "```\n",
            "optb.plot()\n",
            "```\n",
            "\n",
            "The user preferred the step-by-step breakdown explanation as it is easy to follow and understand. It provides a clear explanation of each step involved in the process of finding the optimal binning. \n"
          ]
        }
      ]
    },
    {
      "cell_type": "code",
      "source": [],
      "metadata": {
        "id": "Z_Da7Z7GcYlx"
      },
      "execution_count": null,
      "outputs": []
    },
    {
      "cell_type": "markdown",
      "source": [
        "# for sas users"
      ],
      "metadata": {
        "id": "SZtv3dyRcGPb"
      }
    },
    {
      "cell_type": "code",
      "source": [
        "examples = \"code: \\\"\\\"\\\", \\\"\\\"\\\".join('\\\"' + item + '\\\"' for item in parameters), comment: add quotes to every list element in parameters parameters. \\n code: class MathOperations:\\n def __init__(self, num1, num2):\\n self.num1 = num1 \\n self.num2 = num2 \\n def add(self): \\n return self.num1 + self.num2 \\n def multiply(self): \\n return self.num1 * self.num2, comment: This is a class to perform basic mathematical operations.The class demonstrates the usage of docstrings in a python class. __init__ is a constructor to initialize the attributes of the class. \\n Args: \\n num1 (int): accepts an integer value. \\n num2 (int): accepts an integer value.\\n The add function calculates sum of the numbers. \\n Returns: \\n int: Sum of num1 and num2. \\n The multiply function calculates product of the numbers. \\n Returns: \\n int: Product of num1 and num2.\"\n",
        "hidden_instructions_level1 = \"#hidden_instruction_level1: Consider the user is currently a SAS user rather than python.\"\n",
        "\n",
        "hidden_instructions_level2 = \"#hidden_instruction_level2: Provide three different styles of explanation - Conceptual Overview, Real-World Analogy, Step-by-step Breakdown, SAS equivalent.\"\n",
        "\n",
        "hidden_instructions_level3 = \"#hidden_instruction_level3: After providing explanations, reflect on the user's input. Why do you think the user preferred a specific style of explanation? Consider the context they provided about their familiarity with libraries. In your subsequent response, try to mimic the user's preferred style or address their specific context.\"\n",
        "\n",
        "prompt = \"optb = OptimalBinning(name=variable,dtype='numerical',solver='cp')\"  # @param {type:\"string\"}\n",
        "\n",
        "instance = {\n",
        "    \"prompt\": f\"Below is an instruction that describes a task. Write a response that appropriately completes the request.\\n\\n### Instruction Level 1:\\n{prompt}\\n\\n{hidden_instructions_level1}\\n\\n### Instruction Level 2:\\n{hidden_instructions_level2}\\n\\n### Instruction Level 3:\\n{hidden_instructions_level3}\\n\\n### Examples:\\n{examples}\\n\\n### Response:\",\n",
        "    \"temperature\": 0.1,\n",
        "    \"top_p\": 1.0,\n",
        "    \"max_tokens\": 5000,\n",
        "}\n",
        "\n",
        "response_sas = endpoint.predict(instances=[instance])"
      ],
      "metadata": {
        "id": "Gh3NGhdSaV26"
      },
      "execution_count": null,
      "outputs": []
    },
    {
      "cell_type": "code",
      "source": [
        "for prediction in response_sas.predictions:\n",
        "    print(prediction)"
      ],
      "metadata": {
        "colab": {
          "base_uri": "https://localhost:8080/"
        },
        "id": "V2ql_El8cZzX",
        "executionInfo": {
          "status": "ok",
          "timestamp": 1709910309091,
          "user_tz": 0,
          "elapsed": 5,
          "user": {
            "displayName": "",
            "userId": ""
          }
        },
        "outputId": "824932d3-e9eb-4dd9-db60-c20707c39665"
      },
      "execution_count": null,
      "outputs": [
        {
          "output_type": "stream",
          "name": "stdout",
          "text": [
            "Prompt:\n",
            "Below is an instruction that describes a task. Write a response that appropriately completes the request.\n",
            "\n",
            "### Instruction Level 1:\n",
            "optb = OptimalBinning(name=variable,dtype='numerical',solver='cp')\n",
            "\n",
            "#hidden_instruction_level1: Consider the user is currently a SAS user rather than python.\n",
            "\n",
            "### Instruction Level 2:\n",
            "#hidden_instruction_level2: Provide three different styles of explanation - Conceptual Overview, Real-World Analogy, Step-by-step Breakdown, SAS equivalent.\n",
            "\n",
            "### Instruction Level 3:\n",
            "#hidden_instruction_level3: After providing explanations, reflect on the user's input. Why do you think the user preferred a specific style of explanation? Consider the context they provided about their familiarity with libraries. In your subsequent response, try to mimic the user's preferred style or address their specific context.\n",
            "\n",
            "### Examples:\n",
            "code: \"\"\", \"\"\".join('\"' + item + '\"' for item in parameters), comment: add quotes to every list element in parameters parameters. \n",
            " code: class MathOperations:\n",
            " def __init__(self, num1, num2):\n",
            " self.num1 = num1 \n",
            " self.num2 = num2 \n",
            " def add(self): \n",
            " return self.num1 + self.num2 \n",
            " def multiply(self): \n",
            " return self.num1 * self.num2, comment: This is a class to perform basic mathematical operations.The class demonstrates the usage of docstrings in a python class. __init__ is a constructor to initialize the attributes of the class. \n",
            " Args: \n",
            " num1 (int): accepts an integer value. \n",
            " num2 (int): accepts an integer value.\n",
            " The add function calculates sum of the numbers. \n",
            " Returns: \n",
            " int: Sum of num1 and num2. \n",
            " The multiply function calculates product of the numbers. \n",
            " Returns: \n",
            " int: Product of num1 and num2.\n",
            "\n",
            "### Response:\n",
            "Output:\n",
            "Conceptual Overview:\n",
            "Optimal Binning is a library that helps to find the optimal binning of a numerical variable in a dataset. It uses a constrained optimization approach to find the optimal binning that minimizes the loss function. The library is implemented using Python and uses the CPLEX library for solving the optimization problem. The library provides a simple interface to define the loss function, the constraints, and the variables that need to be optimized. The library can be used to find the optimal binning for both continuous and categorical variables.\n",
            "\n",
            "Real-World Analogy:\n",
            "Imagine you are a data analyst who is trying to find the optimal binning for a numerical variable in a dataset. You have a large dataset with a continuous variable that needs to be binned. You want to find the optimal binning that minimizes the loss function. You can use Optimal Binning library to find the optimal binning for this variable. The library uses a constrained optimization approach to find the optimal binning that minimizes the loss function. The library provides a simple interface to define the loss function, constraints, and the variables that need to be optimized. You can use the library to find the optimal binning for both continuous and categorical variables.\n",
            "\n",
            "Step-by-step Breakdown:\n",
            "1. Import the OptimalBinning library:\n",
            "```python\n",
            "from optimal_binning import OptimalBinning\n",
            "```\n",
            "2. Define the variable to be binned:\n",
            "```python\n",
            "variable = \"age\"\n",
            "```\n",
            "3. Define the data type of the variable:\n",
            "```python\n",
            "dtype = 'numerical'\n",
            "```\n",
            "4. Define the solver:\n",
            "```python\n",
            "solver = 'cp'\n",
            "```\n",
            "5. Initialize the OptimalBinning object:\n",
            "```python\n",
            "optb = OptimalBinning(name=variable, dtype=dtype, solver=solver)\n",
            "```\n",
            "6. Define the loss function:\n",
            "```python\n",
            "def loss_func(x, y, y_pred):\n",
            "    return (y_pred - y) ** 2\n",
            "```\n",
            "7. Define the constraints:\n",
            "```python\n",
            "def constraints(x, y, y_pred):\n",
            "    return {'monotonicity': True, 'min_bin_size': 10, 'min_bin_n_obs': 5}\n",
            "```\n",
            "8. Define the variables to be optimized:\n",
            "```python\n",
            "def variables(x, y, y_pred):\n",
            "    return {'dtype': 'numerical', 'prebinning_method': 'cart', 'max_n_prebins': 10, 'min_n_bins': 2, 'max_n_bins': 10, 'min_bin_n_obs': 5, 'monotonic_trend': 'auto', 'solver': 'cp'}\n",
            "```\n",
            "9. Fit the optimal binning:\n",
            "```python\n",
            "optb.fit(data, target, loss_func=loss_func, constraints=constraints, variables=variables)\n",
            "```\n",
            "10. Print the optimal binning:\n",
            "```python\n",
            "print(optb.binning_table)\n",
            "```\n",
            "\n",
            "SAS equivalent:\n",
            "\n",
            "```sas\n",
            "proc optbin data=input_data out=output_data;\n",
            "  by variable;\n",
            "  class variable / type=continuous;\n",
            "  output out=output_data;\n",
            "  optimal;\n",
            "  loss=squared;\n",
            "  monotonicity=incr;\n",
            "  min_bin_size=10;\n",
            "  min_bin_obs=5;\n",
            "  max_bins=10;\n",
            "run;\n",
            "```\n",
            "\n",
            "In this SAS code, the `proc optbin` command is used to find the optimal binning for the variable `age`. The `by` statement specifies that the variable `age` is the target variable. The `class` statement specifies that the variable `age` is a continuous variable. The `output` statement specifies the output dataset. The `optimal` statement specifies that the optimal binning should be found. The `loss` statement specifies the loss function as squared. The `monotonicity` statement specifies that the bins should be monotonic. The `min_bin_size` statement specifies the minimum size of the bins. The `min_bin_obs` statement specifies the minimum number of observations in each bin. The `max_bins` statement specifies the maximum number of bins. \n",
            "\n",
            "The user preferred the Step-by-step Breakdown style of explanation as it provides a step-by-step guide to solve the problem. They may have been familiar with Python and were looking for a detailed explanation of how to use the library. The SAS equivalent provided is a good example of how to use the library in SAS. \n"
          ]
        }
      ]
    },
    {
      "cell_type": "markdown",
      "source": [
        "# **DEMO**"
      ],
      "metadata": {
        "id": "GqkuW-RimVke"
      }
    },
    {
      "cell_type": "code",
      "source": [
        "examples = \"code: \\\"\\\"\\\", \\\"\\\"\\\".join('\\\"' + item + '\\\"' for item in parameters), comment: add quotes to every list element in parameters parameters. \\n code: class MathOperations:\\n def __init__(self, num1, num2):\\n self.num1 = num1 \\n self.num2 = num2 \\n def add(self): \\n return self.num1 + self.num2 \\n def multiply(self): \\n return self.num1 * self.num2, comment: This is a class to perform basic mathematical operations.The class demonstrates the usage of docstrings in a python class. __init__ is a constructor to initialize the attributes of the class. \\n Args: \\n num1 (int): accepts an integer value. \\n num2 (int): accepts an integer value.\\n The add function calculates sum of the numbers. \\n Returns: \\n int: Sum of num1 and num2. \\n The multiply function calculates product of the numbers. \\n Returns: \\n int: Product of num1 and num2.\"\n",
        "hidden_instructions_level1 = \"#hidden_instruction_level1: Consider the user is currently a SAS user rather than python.\"\n",
        "\n",
        "hidden_instructions_level2 = \"#hidden_instruction_level2: Provide three different styles of explanation - Conceptual Overview, Real-World Analogy, Step-by-step Breakdown, SAS equivalent.\"\n",
        "\n",
        "prompt = \"optb = OptimalBinning(name=variable,dtype='numerical',solver='cp')\"  # @param {type:\"string\"}\n",
        "\n",
        "instance = {\n",
        "    \"prompt\": f\"Below is an instruction that describes a task. Write a response that appropriately completes the request.\\n\\n### Instruction Level 1:\\n{prompt}\\n\\n{hidden_instructions_level1}\\n\\n### Instruction Level 2:\\n{hidden_instructions_level2}\\n\\n### Examples:\\n{examples}\\n\\n### Response:\",\n",
        "    \"temperature\": 0.1,\n",
        "    \"top_p\": 1.0,\n",
        "    \"max_tokens\": 5000,\n",
        "}\n",
        "\n",
        "response_sas_2levels = endpoint.predict(instances=[instance])"
      ],
      "metadata": {
        "id": "dpdSRDBSgUcH"
      },
      "execution_count": null,
      "outputs": []
    },
    {
      "cell_type": "code",
      "source": [
        "for prediction in response_sas_2levels.predictions:\n",
        "    print(prediction)"
      ],
      "metadata": {
        "colab": {
          "base_uri": "https://localhost:8080/"
        },
        "id": "LmGJW5Ongl72",
        "executionInfo": {
          "status": "ok",
          "timestamp": 1709911665332,
          "user_tz": 0,
          "elapsed": 16,
          "user": {
            "displayName": "",
            "userId": ""
          }
        },
        "outputId": "660b68a1-22e1-4292-df0f-6d7f749f9efa"
      },
      "execution_count": null,
      "outputs": [
        {
          "output_type": "stream",
          "name": "stdout",
          "text": [
            "Prompt:\n",
            "Below is an instruction that describes a task. Write a response that appropriately completes the request.\n",
            "\n",
            "### Instruction Level 1:\n",
            "optb = OptimalBinning(name=variable,dtype='numerical',solver='cp')\n",
            "\n",
            "#hidden_instruction_level1: Consider the user is currently a SAS user rather than python.\n",
            "\n",
            "### Instruction Level 2:\n",
            "#hidden_instruction_level2: Provide three different styles of explanation - Conceptual Overview, Real-World Analogy, Step-by-step Breakdown, SAS equivalent.\n",
            "\n",
            "### Examples:\n",
            "code: \"\"\", \"\"\".join('\"' + item + '\"' for item in parameters), comment: add quotes to every list element in parameters parameters. \n",
            " code: class MathOperations:\n",
            " def __init__(self, num1, num2):\n",
            " self.num1 = num1 \n",
            " self.num2 = num2 \n",
            " def add(self): \n",
            " return self.num1 + self.num2 \n",
            " def multiply(self): \n",
            " return self.num1 * self.num2, comment: This is a class to perform basic mathematical operations.The class demonstrates the usage of docstrings in a python class. __init__ is a constructor to initialize the attributes of the class. \n",
            " Args: \n",
            " num1 (int): accepts an integer value. \n",
            " num2 (int): accepts an integer value.\n",
            " The add function calculates sum of the numbers. \n",
            " Returns: \n",
            " int: Sum of num1 and num2. \n",
            " The multiply function calculates product of the numbers. \n",
            " Returns: \n",
            " int: Product of num1 and num2.\n",
            "\n",
            "### Response:\n",
            "Output:\n",
            "Conceptual Overview:\n",
            "Optimal Binning is a technique used to find the optimal binning of a numerical variable in a dataset. It is a popular method in data mining and data analysis to group the data into bins or buckets based on the distribution of the variable. It is used to reduce the dimensionality of the data and improve the efficiency of analysis. The objective is to find the optimal number of bins that minimizes the loss function. The loss function is usually the entropy or information gain. The algorithm is based on the concept of information gain and uses a combination of greedy and local search algorithms to find the optimal binning.\n",
            "\n",
            "Real-World Analogy:\n",
            "Imagine you are a data analyst and you have a dataset with a numerical variable that you want to bin. Imagine you have a set of data points that represent the height of people in a population. You want to group them into bins based on their height to understand the distribution of the data. You can use Optimal Binning to find the optimal number of bins that minimizes the entropy or information gain. You can use the SAS PROC OPTBINS command to perform the same task. The PROC OPTBINS command is a SAS procedure that performs optimal binning on a numerical variable. It takes the data as input and returns the optimal number of bins that minimizes the entropy or information gain. The SAS equivalent of Optimal Binning is PROC OPTBINS.\n",
            "\n",
            "Step-by-step Breakdown:\n",
            "1. Import the OptimalBinning library:\n",
            "```\n",
            "import OptimalBinning as ob\n",
            "```\n",
            "2. Initialize the OptimalBinning object:\n",
            "```\n",
            "optb = ob.OptimalBinning(name=variable, dtype='numerical', solver='cp')\n",
            "```\n",
            "3. Fit the optimal binning object:\n",
            "```\n",
            "optb.fit(data)\n",
            "```\n",
            "4. Generate the optimal bins:\n",
            "```\n",
            "bins = optb.transform(data)\n",
            "```\n",
            "5. Visualize the optimal bins:\n",
            "```\n",
            "optb.plot()\n",
            "```\n",
            "\n",
            "SAS equivalent:\n",
            "1. Load the OptimalBinning library:\n",
            "```\n",
            "%let variable=height;\n",
            "%let dtype=numerical;\n",
            "%let solver=cp;\n",
            "```\n",
            "2. Initialize the OptimalBinning object:\n",
            "```\n",
            "proc optbin;\n",
            "  var &variable;\n",
            "  datafile=data;\n",
            "  dtype=&dtype;\n",
            "  solver=&solver;\n",
            "  run;\n",
            "```\n",
            "3. Fit the optimal binning object:\n",
            "```\n",
            "data optimal_binning;\n",
            "  set data;\n",
            "  optimalbinning variable=&variable.;\n",
            "  run;\n",
            "```\n",
            "4. Generate the optimal bins:\n",
            "```\n",
            "proc optbin;\n",
            "  var &variable;\n",
            "  datafile=optimal_binning;\n",
            "  run;\n",
            "```\n",
            "5. Visualize the optimal bins:\n",
            "```\n",
            "proc optbinplot data=optimal_binning;\n",
            "  plot bin;\n",
            "run;\n",
            "``` \n"
          ]
        }
      ]
    },
    {
      "cell_type": "code",
      "source": [],
      "metadata": {
        "id": "dhk2J0qYh8B4"
      },
      "execution_count": null,
      "outputs": []
    },
    {
      "cell_type": "markdown",
      "source": [
        "# **JUDGE DEMO**"
      ],
      "metadata": {
        "id": "7w9NVvFjrbMp"
      }
    },
    {
      "cell_type": "markdown",
      "source": [
        "# Base case"
      ],
      "metadata": {
        "id": "UjewN0zrrtb3"
      }
    },
    {
      "cell_type": "code",
      "source": [
        "prompt = \"optb = OptimalBinning(name=variable,dtype='numerical',solver='cp')\"  # @param {type:\"string\"}\n",
        "\n",
        "instance = {\n",
        "    \"prompt\": f\"Below is an instruction that describes a task.\\n\\n### Instruction:\\n Explain this piece of code. {prompt}\\n\\n### Response:\",\n",
        "    \"temperature\": 0.1,\n",
        "    \"top_p\": 1.0,\n",
        "    \"max_tokens\": 200,\n",
        "}\n",
        "\n",
        "response_base = endpoint.predict(instances=[instance])"
      ],
      "metadata": {
        "id": "MEi5CsU1r4Xv"
      },
      "execution_count": null,
      "outputs": []
    },
    {
      "cell_type": "code",
      "source": [
        "for prediction in response_base.predictions:\n",
        "    print(prediction)"
      ],
      "metadata": {
        "colab": {
          "base_uri": "https://localhost:8080/"
        },
        "id": "UajE-icwr4KT",
        "executionInfo": {
          "status": "ok",
          "timestamp": 1709911926343,
          "user_tz": 0,
          "elapsed": 7,
          "user": {
            "displayName": "",
            "userId": ""
          }
        },
        "outputId": "871b0cb9-03a5-44b2-bad7-9b7ba30d0e4b"
      },
      "execution_count": null,
      "outputs": [
        {
          "output_type": "stream",
          "name": "stdout",
          "text": [
            "Prompt:\n",
            "Below is an instruction that describes a task.\n",
            "\n",
            "### Instruction:\n",
            " Explain this piece of code. optb = OptimalBinning(name=variable,dtype='numerical',solver='cp')\n",
            "\n",
            "### Response:\n",
            "Output:\n",
            "This code creates an instance of the OptimalBinning class from the OptimalBinning library with the specified parameters. The name parameter specifies the name of the variable that needs to be binned, dtype parameter specifies the data type of the variable as numerical, and solver parameter specifies the solver to be used as 'cp' which stands for 'CPLEX'. \n"
          ]
        }
      ]
    },
    {
      "cell_type": "markdown",
      "source": [
        "# few shot with hidden instructions for SAS users"
      ],
      "metadata": {
        "id": "NzspmpGlrxnU"
      }
    },
    {
      "cell_type": "code",
      "source": [
        "examples = \"code: \\\"\\\"\\\", \\\"\\\"\\\".join('\\\"' + item + '\\\"' for item in parameters), comment: add quotes to every list element in parameters parameters. \\n code: class MathOperations:\\n def __init__(self, num1, num2):\\n self.num1 = num1 \\n self.num2 = num2 \\n def add(self): \\n return self.num1 + self.num2 \\n def multiply(self): \\n return self.num1 * self.num2, comment: This is a class to perform basic mathematical operations.The class demonstrates the usage of docstrings in a python class. __init__ is a constructor to initialize the attributes of the class. \\n Args: \\n num1 (int): accepts an integer value. \\n num2 (int): accepts an integer value.\\n The add function calculates sum of the numbers. \\n Returns: \\n int: Sum of num1 and num2. \\n The multiply function calculates product of the numbers. \\n Returns: \\n int: Product of num1 and num2.\"\n",
        "hidden_instructions_level1 = \"#hidden_instruction_level1: Consider the user is currently a SAS user rather than python.\"\n",
        "\n",
        "hidden_instructions_level2 = \"#hidden_instruction_level2: Provide three different styles of explanation - Conceptual Overview, Real-World Analogy, Step-by-step Breakdown, SAS equivalent.\"\n",
        "\n",
        "prompt = \"optb = OptimalBinning(name=variable,dtype='numerical',solver='cp')\"  # @param {type:\"string\"}\n",
        "\n",
        "instance = {\n",
        "    \"prompt\": f\"Below is an instruction that describes a task. Write a response that appropriately completes the request.\\n\\n### Instruction Level 1:\\n{prompt}\\n\\n{hidden_instructions_level1}\\n\\n### Instruction Level 2:\\n{hidden_instructions_level2}\\n\\n### Examples:\\n{examples}\\n\\n### Response:\",\n",
        "    \"temperature\": 0.1,\n",
        "    \"top_p\": 1.0,\n",
        "    \"max_tokens\": 5000,\n",
        "}\n",
        "\n",
        "response_sas_2levels = endpoint.predict(instances=[instance])"
      ],
      "metadata": {
        "id": "m5tM-78craQf"
      },
      "execution_count": null,
      "outputs": []
    },
    {
      "cell_type": "code",
      "source": [
        "for prediction in response_sas_2levels.predictions:\n",
        "    print(prediction)"
      ],
      "metadata": {
        "id": "E3sNQ2_9rheE"
      },
      "execution_count": null,
      "outputs": []
    },
    {
      "cell_type": "markdown",
      "source": [
        "# **GRADIO DEMO**"
      ],
      "metadata": {
        "id": "sz8DbpvrtEAu"
      }
    },
    {
      "cell_type": "code",
      "source": [
        "pip install gradio"
      ],
      "metadata": {
        "colab": {
          "base_uri": "https://localhost:8080/"
        },
        "id": "B-YR4E1WtGIy",
        "executionInfo": {
          "status": "ok",
          "timestamp": 1709912151410,
          "user_tz": 0,
          "elapsed": 8649,
          "user": {
            "displayName": "",
            "userId": ""
          }
        },
        "outputId": "135312ce-c2a9-4a11-c31b-7c0150eae0ea"
      },
      "execution_count": 16,
      "outputs": [
        {
          "output_type": "stream",
          "name": "stdout",
          "text": [
            "Requirement already satisfied: gradio in /usr/local/lib/python3.10/dist-packages (4.20.1)\n",
            "Requirement already satisfied: aiofiles<24.0,>=22.0 in /usr/local/lib/python3.10/dist-packages (from gradio) (23.2.1)\n",
            "Requirement already satisfied: altair<6.0,>=4.2.0 in /usr/local/lib/python3.10/dist-packages (from gradio) (4.2.2)\n",
            "Requirement already satisfied: fastapi in /usr/local/lib/python3.10/dist-packages (from gradio) (0.110.0)\n",
            "Requirement already satisfied: ffmpy in /usr/local/lib/python3.10/dist-packages (from gradio) (0.3.2)\n",
            "Requirement already satisfied: gradio-client==0.11.0 in /usr/local/lib/python3.10/dist-packages (from gradio) (0.11.0)\n",
            "Requirement already satisfied: httpx>=0.24.1 in /usr/local/lib/python3.10/dist-packages (from gradio) (0.27.0)\n",
            "Requirement already satisfied: huggingface-hub>=0.19.3 in /usr/local/lib/python3.10/dist-packages (from gradio) (0.20.3)\n",
            "Requirement already satisfied: importlib-resources<7.0,>=1.3 in /usr/local/lib/python3.10/dist-packages (from gradio) (6.1.1)\n",
            "Requirement already satisfied: jinja2<4.0 in /usr/local/lib/python3.10/dist-packages (from gradio) (3.1.3)\n",
            "Requirement already satisfied: markupsafe~=2.0 in /usr/local/lib/python3.10/dist-packages (from gradio) (2.1.5)\n",
            "Requirement already satisfied: matplotlib~=3.0 in /usr/local/lib/python3.10/dist-packages (from gradio) (3.7.1)\n",
            "Requirement already satisfied: numpy~=1.0 in /usr/local/lib/python3.10/dist-packages (from gradio) (1.25.2)\n",
            "Requirement already satisfied: orjson~=3.0 in /usr/local/lib/python3.10/dist-packages (from gradio) (3.9.15)\n",
            "Requirement already satisfied: packaging in /usr/local/lib/python3.10/dist-packages (from gradio) (23.2)\n",
            "Requirement already satisfied: pandas<3.0,>=1.0 in /usr/local/lib/python3.10/dist-packages (from gradio) (1.5.3)\n",
            "Requirement already satisfied: pillow<11.0,>=8.0 in /usr/local/lib/python3.10/dist-packages (from gradio) (9.4.0)\n",
            "Requirement already satisfied: pydantic>=2.0 in /usr/local/lib/python3.10/dist-packages (from gradio) (2.6.3)\n",
            "Requirement already satisfied: pydub in /usr/local/lib/python3.10/dist-packages (from gradio) (0.25.1)\n",
            "Requirement already satisfied: python-multipart>=0.0.9 in /usr/local/lib/python3.10/dist-packages (from gradio) (0.0.9)\n",
            "Requirement already satisfied: pyyaml<7.0,>=5.0 in /usr/local/lib/python3.10/dist-packages (from gradio) (6.0.1)\n",
            "Requirement already satisfied: ruff>=0.2.2 in /usr/local/lib/python3.10/dist-packages (from gradio) (0.3.1)\n",
            "Requirement already satisfied: semantic-version~=2.0 in /usr/local/lib/python3.10/dist-packages (from gradio) (2.10.0)\n",
            "Requirement already satisfied: tomlkit==0.12.0 in /usr/local/lib/python3.10/dist-packages (from gradio) (0.12.0)\n",
            "Requirement already satisfied: typer[all]<1.0,>=0.9 in /usr/local/lib/python3.10/dist-packages (from gradio) (0.9.0)\n",
            "Requirement already satisfied: typing-extensions~=4.0 in /usr/local/lib/python3.10/dist-packages (from gradio) (4.9.0)\n",
            "Requirement already satisfied: uvicorn>=0.14.0 in /usr/local/lib/python3.10/dist-packages (from gradio) (0.27.1)\n",
            "Requirement already satisfied: fsspec in /usr/local/lib/python3.10/dist-packages (from gradio-client==0.11.0->gradio) (2023.6.0)\n",
            "Requirement already satisfied: websockets<12.0,>=10.0 in /usr/local/lib/python3.10/dist-packages (from gradio-client==0.11.0->gradio) (11.0.3)\n",
            "Requirement already satisfied: entrypoints in /usr/local/lib/python3.10/dist-packages (from altair<6.0,>=4.2.0->gradio) (0.4)\n",
            "Requirement already satisfied: jsonschema>=3.0 in /usr/local/lib/python3.10/dist-packages (from altair<6.0,>=4.2.0->gradio) (4.19.2)\n",
            "Requirement already satisfied: toolz in /usr/local/lib/python3.10/dist-packages (from altair<6.0,>=4.2.0->gradio) (0.12.1)\n",
            "Requirement already satisfied: anyio in /usr/local/lib/python3.10/dist-packages (from httpx>=0.24.1->gradio) (3.7.1)\n",
            "Requirement already satisfied: certifi in /usr/local/lib/python3.10/dist-packages (from httpx>=0.24.1->gradio) (2024.2.2)\n",
            "Requirement already satisfied: httpcore==1.* in /usr/local/lib/python3.10/dist-packages (from httpx>=0.24.1->gradio) (1.0.4)\n",
            "Requirement already satisfied: idna in /usr/local/lib/python3.10/dist-packages (from httpx>=0.24.1->gradio) (3.6)\n",
            "Requirement already satisfied: sniffio in /usr/local/lib/python3.10/dist-packages (from httpx>=0.24.1->gradio) (1.3.0)\n",
            "Requirement already satisfied: h11<0.15,>=0.13 in /usr/local/lib/python3.10/dist-packages (from httpcore==1.*->httpx>=0.24.1->gradio) (0.14.0)\n",
            "Requirement already satisfied: filelock in /usr/local/lib/python3.10/dist-packages (from huggingface-hub>=0.19.3->gradio) (3.13.1)\n",
            "Requirement already satisfied: requests in /usr/local/lib/python3.10/dist-packages (from huggingface-hub>=0.19.3->gradio) (2.31.0)\n",
            "Requirement already satisfied: tqdm>=4.42.1 in /usr/local/lib/python3.10/dist-packages (from huggingface-hub>=0.19.3->gradio) (4.66.2)\n",
            "Requirement already satisfied: contourpy>=1.0.1 in /usr/local/lib/python3.10/dist-packages (from matplotlib~=3.0->gradio) (1.2.0)\n",
            "Requirement already satisfied: cycler>=0.10 in /usr/local/lib/python3.10/dist-packages (from matplotlib~=3.0->gradio) (0.12.1)\n",
            "Requirement already satisfied: fonttools>=4.22.0 in /usr/local/lib/python3.10/dist-packages (from matplotlib~=3.0->gradio) (4.49.0)\n",
            "Requirement already satisfied: kiwisolver>=1.0.1 in /usr/local/lib/python3.10/dist-packages (from matplotlib~=3.0->gradio) (1.4.5)\n",
            "Requirement already satisfied: pyparsing>=2.3.1 in /usr/local/lib/python3.10/dist-packages (from matplotlib~=3.0->gradio) (3.1.1)\n",
            "Requirement already satisfied: python-dateutil>=2.7 in /usr/local/lib/python3.10/dist-packages (from matplotlib~=3.0->gradio) (2.8.2)\n",
            "Requirement already satisfied: pytz>=2020.1 in /usr/local/lib/python3.10/dist-packages (from pandas<3.0,>=1.0->gradio) (2023.4)\n",
            "Requirement already satisfied: annotated-types>=0.4.0 in /usr/local/lib/python3.10/dist-packages (from pydantic>=2.0->gradio) (0.6.0)\n",
            "Requirement already satisfied: pydantic-core==2.16.3 in /usr/local/lib/python3.10/dist-packages (from pydantic>=2.0->gradio) (2.16.3)\n",
            "Requirement already satisfied: click<9.0.0,>=7.1.1 in /usr/local/lib/python3.10/dist-packages (from typer[all]<1.0,>=0.9->gradio) (8.1.7)\n",
            "Requirement already satisfied: colorama<0.5.0,>=0.4.3 in /usr/local/lib/python3.10/dist-packages (from typer[all]<1.0,>=0.9->gradio) (0.4.6)\n",
            "Requirement already satisfied: shellingham<2.0.0,>=1.3.0 in /usr/local/lib/python3.10/dist-packages (from typer[all]<1.0,>=0.9->gradio) (1.5.4)\n",
            "Requirement already satisfied: rich<14.0.0,>=10.11.0 in /usr/local/lib/python3.10/dist-packages (from typer[all]<1.0,>=0.9->gradio) (13.7.0)\n",
            "Requirement already satisfied: starlette<0.37.0,>=0.36.3 in /usr/local/lib/python3.10/dist-packages (from fastapi->gradio) (0.36.3)\n",
            "Requirement already satisfied: attrs>=22.2.0 in /usr/local/lib/python3.10/dist-packages (from jsonschema>=3.0->altair<6.0,>=4.2.0->gradio) (23.2.0)\n",
            "Requirement already satisfied: jsonschema-specifications>=2023.03.6 in /usr/local/lib/python3.10/dist-packages (from jsonschema>=3.0->altair<6.0,>=4.2.0->gradio) (2023.12.1)\n",
            "Requirement already satisfied: referencing>=0.28.4 in /usr/local/lib/python3.10/dist-packages (from jsonschema>=3.0->altair<6.0,>=4.2.0->gradio) (0.33.0)\n",
            "Requirement already satisfied: rpds-py>=0.7.1 in /usr/local/lib/python3.10/dist-packages (from jsonschema>=3.0->altair<6.0,>=4.2.0->gradio) (0.18.0)\n",
            "Requirement already satisfied: six>=1.5 in /usr/local/lib/python3.10/dist-packages (from python-dateutil>=2.7->matplotlib~=3.0->gradio) (1.16.0)\n",
            "Requirement already satisfied: markdown-it-py>=2.2.0 in /usr/local/lib/python3.10/dist-packages (from rich<14.0.0,>=10.11.0->typer[all]<1.0,>=0.9->gradio) (3.0.0)\n",
            "Requirement already satisfied: pygments<3.0.0,>=2.13.0 in /usr/local/lib/python3.10/dist-packages (from rich<14.0.0,>=10.11.0->typer[all]<1.0,>=0.9->gradio) (2.16.1)\n",
            "Requirement already satisfied: exceptiongroup in /usr/local/lib/python3.10/dist-packages (from anyio->httpx>=0.24.1->gradio) (1.2.0)\n",
            "Requirement already satisfied: charset-normalizer<4,>=2 in /usr/local/lib/python3.10/dist-packages (from requests->huggingface-hub>=0.19.3->gradio) (3.3.2)\n",
            "Requirement already satisfied: urllib3<3,>=1.21.1 in /usr/local/lib/python3.10/dist-packages (from requests->huggingface-hub>=0.19.3->gradio) (2.0.7)\n",
            "Requirement already satisfied: mdurl~=0.1 in /usr/local/lib/python3.10/dist-packages (from markdown-it-py>=2.2.0->rich<14.0.0,>=10.11.0->typer[all]<1.0,>=0.9->gradio) (0.1.2)\n"
          ]
        }
      ]
    },
    {
      "cell_type": "code",
      "source": [
        "import gradio as gr"
      ],
      "metadata": {
        "id": "zkxWzT4uiUTR",
        "executionInfo": {
          "status": "ok",
          "timestamp": 1709912197577,
          "user_tz": 0,
          "elapsed": 3357,
          "user": {
            "displayName": "",
            "userId": ""
          }
        }
      },
      "execution_count": 17,
      "outputs": []
    },
    {
      "cell_type": "code",
      "source": [
        "def predict(prompt):\n",
        "  examples = \"code: \\\"\\\"\\\", \\\"\\\"\\\".join('\\\"' + item + '\\\"' for item in parameters), comment: add quotes to every list element in parameters parameters. \\n code: class MathOperations:\\n def __init__(self, num1, num2):\\n self.num1 = num1 \\n self.num2 = num2 \\n def add(self): \\n return self.num1 + self.num2 \\n def multiply(self): \\n return self.num1 * self.num2, comment: This is a class to perform basic mathematical operations.The class demonstrates the usage of docstrings in a python class. __init__ is a constructor to initialize the attributes of the class. \\n Args: \\n num1 (int): accepts an integer value. \\n num2 (int): accepts an integer value.\\n The add function calculates sum of the numbers. \\n Returns: \\n int: Sum of num1 and num2. \\n The multiply function calculates product of the numbers. \\n Returns: \\n int: Product of num1 and num2.\"\n",
        "  hidden_instructions_level1 = \"#hidden_instruction_level1: Consider the user is currently a SAS user rather than python.\"\n",
        "\n",
        "  hidden_instructions_level2 = \"#hidden_instruction_level2: Provide three different styles of explanation - Conceptual Overview, Real-World Analogy, Step-by-step Breakdown, SAS equivalent.\"\n",
        "\n",
        "  #prompt = \"optb = OptimalBinning(name=variable,dtype='numerical',solver='cp')\"\n",
        "\n",
        "  instance = {\n",
        "    \"prompt\": f\"Below is an instruction that describes a task. Write a response that appropriately completes the request.\\n\\n### Instruction Level 1:\\n{prompt}\\n\\n{hidden_instructions_level1}\\n\\n### Instruction Level 2:\\n{hidden_instructions_level2}\\n\\n### Examples:\\n{examples}\\n\\n### Response:\",\n",
        "    \"temperature\": 0.1,\n",
        "    \"top_p\": 1.0,\n",
        "    \"max_tokens\": 5000,\n",
        "  }\n",
        "\n",
        "  response_sas_2levels = endpoint.predict(instances=[instance])\n",
        "  for prediction in response_sas_2levels.predictions:\n",
        "    return prediction"
      ],
      "metadata": {
        "id": "-xzQzpXptPeC",
        "executionInfo": {
          "status": "ok",
          "timestamp": 1709915540388,
          "user_tz": 0,
          "elapsed": 322,
          "user": {
            "displayName": "",
            "userId": ""
          }
        }
      },
      "execution_count": 33,
      "outputs": []
    },
    {
      "cell_type": "code",
      "source": [
        "intefaceModel = gr.Interface(fn=predict, inputs='text', outputs='text')"
      ],
      "metadata": {
        "id": "bePBqAgNtdLn",
        "executionInfo": {
          "status": "ok",
          "timestamp": 1709915545977,
          "user_tz": 0,
          "elapsed": 392,
          "user": {
            "displayName": "",
            "userId": ""
          }
        }
      },
      "execution_count": 34,
      "outputs": []
    },
    {
      "cell_type": "code",
      "source": [
        "intefaceModel.launch(share=True)"
      ],
      "metadata": {
        "colab": {
          "base_uri": "https://localhost:8080/",
          "height": 610
        },
        "id": "Or3Ykxt-tfLR",
        "executionInfo": {
          "status": "ok",
          "timestamp": 1709915553562,
          "user_tz": 0,
          "elapsed": 6285,
          "user": {
            "displayName": "",
            "userId": ""
          }
        },
        "outputId": "a3dea5b9-ed0f-4120-a741-b969c8365c4c"
      },
      "execution_count": 35,
      "outputs": [
        {
          "output_type": "stream",
          "name": "stdout",
          "text": [
            "Colab notebook detected. To show errors in colab notebook, set debug=True in launch()\n",
            "Running on public URL: https://eb294441232f7b1e22.gradio.live\n",
            "\n",
            "This share link expires in 72 hours. For free permanent hosting and GPU upgrades, run `gradio deploy` from Terminal to deploy to Spaces (https://huggingface.co/spaces)\n"
          ]
        },
        {
          "output_type": "display_data",
          "data": {
            "text/plain": [
              "<IPython.core.display.HTML object>"
            ],
            "text/html": [
              "<div><iframe src=\"https://eb294441232f7b1e22.gradio.live\" width=\"100%\" height=\"500\" allow=\"autoplay; camera; microphone; clipboard-read; clipboard-write;\" frameborder=\"0\" allowfullscreen></iframe></div>"
            ]
          },
          "metadata": {}
        },
        {
          "output_type": "execute_result",
          "data": {
            "text/plain": []
          },
          "metadata": {},
          "execution_count": 35
        }
      ]
    },
    {
      "cell_type": "markdown",
      "source": [
        "# **TRIAL**"
      ],
      "metadata": {
        "id": "9tB9hfKV4seA"
      }
    },
    {
      "cell_type": "code",
      "source": [
        "def predict(prompt):\n",
        "  examples = \"code: \\\"\\\"\\\", \\\"\\\"\\\".join('\\\"' + item + '\\\"' for item in parameters), comment: add quotes to every list element in parameters parameters.\"\n",
        "  hidden_instructions_level1 = \"#hidden_instruction_level1: Consider the user is currently a SAS user rather than python.\"\n",
        "\n",
        "  hidden_instructions_level2 = \"#hidden_instruction_level2: Provide three different styles of explanation - Conceptual Overview, Real-World Analogy, Step-by-step Breakdown, SAS equivalent.\"\n",
        "\n",
        "  #prompt = \"optb = OptimalBinning(name=variable,dtype='numerical',solver='cp')\"\n",
        "\n",
        "  instance = {\n",
        "    \"prompt\": f\"Below is an instruction that describes a task. Write a response that appropriately completes the request.\\n\\n### Instruction Level 1:\\n{prompt}\\n\\n{hidden_instructions_level1}\\n\\n### Instruction Level 2:\\n{hidden_instructions_level2}\\n\\n### Examples:\\n{examples}\\n\\n### Response:\",\n",
        "    \"temperature\": 0.1,\n",
        "    \"top_p\": 1.0,\n",
        "    \"max_tokens\": 5000,\n",
        "  }\n",
        "\n",
        "  response_sas_2levels = endpoint.predict(instances=[instance])\n",
        "  for prediction in response_sas_2levels.predictions:\n",
        "    return prediction"
      ],
      "metadata": {
        "id": "GghmTK5u4qTg",
        "executionInfo": {
          "status": "ok",
          "timestamp": 1709915245918,
          "user_tz": 0,
          "elapsed": 284,
          "user": {
            "displayName": "",
            "userId": ""
          }
        }
      },
      "execution_count": 30,
      "outputs": []
    },
    {
      "cell_type": "code",
      "source": [
        "intefaceModel = gr.Interface(fn=predict, inputs='text', outputs='text')"
      ],
      "metadata": {
        "id": "EC0MRQ054655",
        "executionInfo": {
          "status": "ok",
          "timestamp": 1709915247848,
          "user_tz": 0,
          "elapsed": 284,
          "user": {
            "displayName": "",
            "userId": ""
          }
        }
      },
      "execution_count": 31,
      "outputs": []
    },
    {
      "cell_type": "code",
      "source": [
        "intefaceModel.launch(share=True)"
      ],
      "metadata": {
        "colab": {
          "base_uri": "https://localhost:8080/",
          "height": 610
        },
        "id": "oVLfIQzz49Aq",
        "executionInfo": {
          "status": "ok",
          "timestamp": 1709915251921,
          "user_tz": 0,
          "elapsed": 2356,
          "user": {
            "displayName": "",
            "userId": ""
          }
        },
        "outputId": "c2accd13-da57-4804-9dd8-36265386a0c8"
      },
      "execution_count": 32,
      "outputs": [
        {
          "output_type": "stream",
          "name": "stdout",
          "text": [
            "Colab notebook detected. To show errors in colab notebook, set debug=True in launch()\n",
            "Running on public URL: https://f60f421dc9db0d0a21.gradio.live\n",
            "\n",
            "This share link expires in 72 hours. For free permanent hosting and GPU upgrades, run `gradio deploy` from Terminal to deploy to Spaces (https://huggingface.co/spaces)\n"
          ]
        },
        {
          "output_type": "display_data",
          "data": {
            "text/plain": [
              "<IPython.core.display.HTML object>"
            ],
            "text/html": [
              "<div><iframe src=\"https://f60f421dc9db0d0a21.gradio.live\" width=\"100%\" height=\"500\" allow=\"autoplay; camera; microphone; clipboard-read; clipboard-write;\" frameborder=\"0\" allowfullscreen></iframe></div>"
            ]
          },
          "metadata": {}
        },
        {
          "output_type": "execute_result",
          "data": {
            "text/plain": []
          },
          "metadata": {},
          "execution_count": 32
        }
      ]
    }
  ],
  "metadata": {
    "colab": {
      "name": "model_garden_pytorch_wizard_coder.ipynb",
      "provenance": []
    },
    "kernelspec": {
      "display_name": "Python 3",
      "name": "python3"
    }
  },
  "nbformat": 4,
  "nbformat_minor": 0
}